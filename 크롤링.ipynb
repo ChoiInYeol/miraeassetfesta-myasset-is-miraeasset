{
 "cells": [
  {
   "cell_type": "markdown",
   "metadata": {},
   "source": [
    "✅: 미해결 수정사항 || 질문"
   ]
  },
  {
   "cell_type": "code",
   "execution_count": 1,
   "metadata": {},
   "outputs": [],
   "source": [
    "import time\n",
    "from selenium import webdriver\n",
    "from bs4 import BeautifulSoup\n",
    "import urllib.request\n",
    "import pandas as pd\n",
    "import cv2\n",
    "from skimage.metrics import structural_similarity\n",
    "import re #정규표현식\n",
    "from PIL import Image\n",
    "from selenium.webdriver.common.by import By\n",
    "\n",
    "import os\n",
    "import natsort # 파일명 숫자 정렬(1,2,3, ...)용\n",
    "\n",
    "import requests\n",
    "\n",
    "def download(url, file_name):\n",
    "    with open(file_name, \"wb\") as file:   # open in binary mode\n",
    "        response = requests.get(url)       # get request\n",
    "        file.write(response.content)      # write to fill"
   ]
  },
  {
   "cell_type": "code",
   "execution_count": 21,
   "metadata": {},
   "outputs": [],
   "source": []
  },
  {
   "cell_type": "code",
   "execution_count": 43,
   "metadata": {},
   "outputs": [
    {
     "ename": "NoSuchWindowException",
     "evalue": "Message: no such window: target window already closed\nfrom unknown error: web view not found\n  (Session info: chrome=105.0.5195.127)\nStacktrace:\nBacktrace:\n\tOrdinal0 [0x00F1DF13+2219795]\n\tOrdinal0 [0x00EB2841+1779777]\n\tOrdinal0 [0x00DC423D+803389]\n\tOrdinal0 [0x00DAC70A+706314]\n\tOrdinal0 [0x00E11502+1119490]\n\tOrdinal0 [0x00E1E8FA+1173754]\n\tOrdinal0 [0x00E0E616+1107478]\n\tOrdinal0 [0x00DE7F89+950153]\n\tOrdinal0 [0x00DE8F56+954198]\n\tGetHandleVerifier [0x01212CB2+3040210]\n\tGetHandleVerifier [0x01202BB4+2974420]\n\tGetHandleVerifier [0x00FB6A0A+565546]\n\tGetHandleVerifier [0x00FB5680+560544]\n\tOrdinal0 [0x00EB9A5C+1808988]\n\tOrdinal0 [0x00EBE3A8+1827752]\n\tOrdinal0 [0x00EBE495+1827989]\n\tOrdinal0 [0x00EC80A4+1867940]\n\tBaseThreadInitThunk [0x755F6739+25]\n\tRtlGetFullPathName_UEx [0x772A8FD2+1218]\n\tRtlGetFullPathName_UEx [0x772A8F9D+1165]\n",
     "output_type": "error",
     "traceback": [
      "\u001b[1;31m---------------------------------------------------------------------------\u001b[0m",
      "\u001b[1;31mNoSuchWindowException\u001b[0m                     Traceback (most recent call last)",
      "\u001b[1;32mc:\\Users\\chldl\\Desktop\\공부\\공모전\\미래에셋증권빅페\\CodeSpace\\크롤링.ipynb Cell 4\u001b[0m in \u001b[0;36m<cell line: 2>\u001b[1;34m()\u001b[0m\n\u001b[0;32m      <a href='vscode-notebook-cell:/c%3A/Users/chldl/Desktop/%EA%B3%B5%EB%B6%80/%EA%B3%B5%EB%AA%A8%EC%A0%84/%EB%AF%B8%EB%9E%98%EC%97%90%EC%85%8B%EC%A6%9D%EA%B6%8C%EB%B9%85%ED%8E%98/CodeSpace/%ED%81%AC%EB%A1%A4%EB%A7%81.ipynb#W3sZmlsZQ%3D%3D?line=0'>1</a>\u001b[0m \u001b[39m# 회사 클릭\u001b[39;00m\n\u001b[1;32m----> <a href='vscode-notebook-cell:/c%3A/Users/chldl/Desktop/%EA%B3%B5%EB%B6%80/%EA%B3%B5%EB%AA%A8%EC%A0%84/%EB%AF%B8%EB%9E%98%EC%97%90%EC%85%8B%EC%A6%9D%EA%B6%8C%EB%B9%85%ED%8E%98/CodeSpace/%ED%81%AC%EB%A1%A4%EB%A7%81.ipynb#W3sZmlsZQ%3D%3D?line=1'>2</a>\u001b[0m company \u001b[39m=\u001b[39m driver\u001b[39m.\u001b[39;49mfind_element(By\u001b[39m.\u001b[39;49mCSS_SELECTOR, \u001b[39m\"\u001b[39;49m\u001b[39mtbody > tr:nth-child(\u001b[39;49m\u001b[39m{}\u001b[39;49;00m\u001b[39m) > td:nth-child(1)\u001b[39;49m\u001b[39m\"\u001b[39;49m\u001b[39m.\u001b[39;49mformat(i))\u001b[39m.\u001b[39mget_attribute(\u001b[39m'\u001b[39m\u001b[39minnerHTML\u001b[39m\u001b[39m'\u001b[39m) \u001b[39m# 회사명 저장\u001b[39;00m\n\u001b[0;32m      <a href='vscode-notebook-cell:/c%3A/Users/chldl/Desktop/%EA%B3%B5%EB%B6%80/%EA%B3%B5%EB%AA%A8%EC%A0%84/%EB%AF%B8%EB%9E%98%EC%97%90%EC%85%8B%EC%A6%9D%EA%B6%8C%EB%B9%85%ED%8E%98/CodeSpace/%ED%81%AC%EB%A1%A4%EB%A7%81.ipynb#W3sZmlsZQ%3D%3D?line=2'>3</a>\u001b[0m ESG \u001b[39m=\u001b[39m driver\u001b[39m.\u001b[39mfind_element(By\u001b[39m.\u001b[39mCSS_SELECTOR, \u001b[39m\"\u001b[39m\u001b[39mtbody > tr:nth-child(\u001b[39m\u001b[39m{}\u001b[39;00m\u001b[39m) > td:nth-child(6) > a.file-download.useK\u001b[39m\u001b[39m\"\u001b[39m\u001b[39m.\u001b[39mformat(i))\u001b[39m.\u001b[39mclick() \u001b[39m# i번째 회사 클릭\u001b[39;00m\n\u001b[0;32m      <a href='vscode-notebook-cell:/c%3A/Users/chldl/Desktop/%EA%B3%B5%EB%B6%80/%EA%B3%B5%EB%AA%A8%EC%A0%84/%EB%AF%B8%EB%9E%98%EC%97%90%EC%85%8B%EC%A6%9D%EA%B6%8C%EB%B9%85%ED%8E%98/CodeSpace/%ED%81%AC%EB%A1%A4%EB%A7%81.ipynb#W3sZmlsZQ%3D%3D?line=3'>4</a>\u001b[0m time\u001b[39m.\u001b[39msleep(\u001b[39m0.2\u001b[39m)\n",
      "File \u001b[1;32mc:\\Users\\chldl\\Desktop\\공부\\공모전\\미래에셋증권빅페\\CodeSpace\\esg\\lib\\site-packages\\selenium\\webdriver\\remote\\webdriver.py:855\u001b[0m, in \u001b[0;36mWebDriver.find_element\u001b[1;34m(self, by, value)\u001b[0m\n\u001b[0;32m    852\u001b[0m     by \u001b[39m=\u001b[39m By\u001b[39m.\u001b[39mCSS_SELECTOR\n\u001b[0;32m    853\u001b[0m     value \u001b[39m=\u001b[39m \u001b[39m'\u001b[39m\u001b[39m[name=\u001b[39m\u001b[39m\"\u001b[39m\u001b[39m%s\u001b[39;00m\u001b[39m\"\u001b[39m\u001b[39m]\u001b[39m\u001b[39m'\u001b[39m \u001b[39m%\u001b[39m value\n\u001b[1;32m--> 855\u001b[0m \u001b[39mreturn\u001b[39;00m \u001b[39mself\u001b[39;49m\u001b[39m.\u001b[39;49mexecute(Command\u001b[39m.\u001b[39;49mFIND_ELEMENT, {\n\u001b[0;32m    856\u001b[0m     \u001b[39m'\u001b[39;49m\u001b[39musing\u001b[39;49m\u001b[39m'\u001b[39;49m: by,\n\u001b[0;32m    857\u001b[0m     \u001b[39m'\u001b[39;49m\u001b[39mvalue\u001b[39;49m\u001b[39m'\u001b[39;49m: value})[\u001b[39m'\u001b[39m\u001b[39mvalue\u001b[39m\u001b[39m'\u001b[39m]\n",
      "File \u001b[1;32mc:\\Users\\chldl\\Desktop\\공부\\공모전\\미래에셋증권빅페\\CodeSpace\\esg\\lib\\site-packages\\selenium\\webdriver\\remote\\webdriver.py:428\u001b[0m, in \u001b[0;36mWebDriver.execute\u001b[1;34m(self, driver_command, params)\u001b[0m\n\u001b[0;32m    426\u001b[0m response \u001b[39m=\u001b[39m \u001b[39mself\u001b[39m\u001b[39m.\u001b[39mcommand_executor\u001b[39m.\u001b[39mexecute(driver_command, params)\n\u001b[0;32m    427\u001b[0m \u001b[39mif\u001b[39;00m response:\n\u001b[1;32m--> 428\u001b[0m     \u001b[39mself\u001b[39;49m\u001b[39m.\u001b[39;49merror_handler\u001b[39m.\u001b[39;49mcheck_response(response)\n\u001b[0;32m    429\u001b[0m     response[\u001b[39m'\u001b[39m\u001b[39mvalue\u001b[39m\u001b[39m'\u001b[39m] \u001b[39m=\u001b[39m \u001b[39mself\u001b[39m\u001b[39m.\u001b[39m_unwrap_value(\n\u001b[0;32m    430\u001b[0m         response\u001b[39m.\u001b[39mget(\u001b[39m'\u001b[39m\u001b[39mvalue\u001b[39m\u001b[39m'\u001b[39m, \u001b[39mNone\u001b[39;00m))\n\u001b[0;32m    431\u001b[0m     \u001b[39mreturn\u001b[39;00m response\n",
      "File \u001b[1;32mc:\\Users\\chldl\\Desktop\\공부\\공모전\\미래에셋증권빅페\\CodeSpace\\esg\\lib\\site-packages\\selenium\\webdriver\\remote\\errorhandler.py:243\u001b[0m, in \u001b[0;36mErrorHandler.check_response\u001b[1;34m(self, response)\u001b[0m\n\u001b[0;32m    241\u001b[0m         alert_text \u001b[39m=\u001b[39m value[\u001b[39m'\u001b[39m\u001b[39malert\u001b[39m\u001b[39m'\u001b[39m]\u001b[39m.\u001b[39mget(\u001b[39m'\u001b[39m\u001b[39mtext\u001b[39m\u001b[39m'\u001b[39m)\n\u001b[0;32m    242\u001b[0m     \u001b[39mraise\u001b[39;00m exception_class(message, screen, stacktrace, alert_text)  \u001b[39m# type: ignore[call-arg]  # mypy is not smart enough here\u001b[39;00m\n\u001b[1;32m--> 243\u001b[0m \u001b[39mraise\u001b[39;00m exception_class(message, screen, stacktrace)\n",
      "\u001b[1;31mNoSuchWindowException\u001b[0m: Message: no such window: target window already closed\nfrom unknown error: web view not found\n  (Session info: chrome=105.0.5195.127)\nStacktrace:\nBacktrace:\n\tOrdinal0 [0x00F1DF13+2219795]\n\tOrdinal0 [0x00EB2841+1779777]\n\tOrdinal0 [0x00DC423D+803389]\n\tOrdinal0 [0x00DAC70A+706314]\n\tOrdinal0 [0x00E11502+1119490]\n\tOrdinal0 [0x00E1E8FA+1173754]\n\tOrdinal0 [0x00E0E616+1107478]\n\tOrdinal0 [0x00DE7F89+950153]\n\tOrdinal0 [0x00DE8F56+954198]\n\tGetHandleVerifier [0x01212CB2+3040210]\n\tGetHandleVerifier [0x01202BB4+2974420]\n\tGetHandleVerifier [0x00FB6A0A+565546]\n\tGetHandleVerifier [0x00FB5680+560544]\n\tOrdinal0 [0x00EB9A5C+1808988]\n\tOrdinal0 [0x00EBE3A8+1827752]\n\tOrdinal0 [0x00EBE495+1827989]\n\tOrdinal0 [0x00EC80A4+1867940]\n\tBaseThreadInitThunk [0x755F6739+25]\n\tRtlGetFullPathName_UEx [0x772A8FD2+1218]\n\tRtlGetFullPathName_UEx [0x772A8F9D+1165]\n"
     ]
    }
   ],
   "source": [
    "# 드라이버 실행\n",
    "driver = webdriver.Chrome()  # 빈칸 시 path 검색(optional argument)\n",
    "driver.get('https://esg.krx.co.kr/contents/02/02030000/ESG02030000.jsp')\n",
    "time.sleep(1) \n",
    "next_page = driver.find_element(By.CSS_SELECTOR, \"ul > li.next > a\")\n",
    "page_num = 1\n",
    "\n",
    "# 회사 클릭\n",
    "company = driver.find_element(By.CSS_SELECTOR, \"tbody > tr:nth-child({}) > td:nth-child(1)\".format(i)).get_attribute('innerHTML') # 회사명 저장\n",
    "ESG = driver.find_element(By.CSS_SELECTOR, \"tbody > tr:nth-child({}) > td:nth-child(6) > a.file-download.useK\".format(i)).click() # i번째 회사 클릭\n",
    "time.sleep(0.2)\n",
    "\n",
    "# 보고서 프레임으로 이동\n",
    "driver.switch_to.window(driver.window_handles[-1]) # 새 탭으로 전환\n",
    "driver.find_element(By.CSS_SELECTOR, \"#attachedDoc\").click() # 목록 열기\n",
    "time.sleep(0.1)\n",
    "driver.find_element(By.CSS_SELECTOR, \"#attachedDoc > option:nth-child(2)\").click() # 목록에서 2번째\n",
    "time.sleep(0.1)\n",
    "driver.switch_to.frame(\"docViewFrm\")\n",
    "\n",
    "# 보고서 링크 클릭\n",
    "time.sleep(0.1)\n",
    "Report = driver.find_element(By.CSS_SELECTOR, \"body > div > div > a\") # 보고서 클릭\n",
    "Report.click()\n",
    "driver.switch_to.window(driver.window_handles[-1]) # 보고서로 탭 전환\n",
    "URL = driver.current_url # 현재 링크 저장\n",
    "\n",
    "# 다운로드\n",
    "download(URL, \"ESG_Reports_File/{}.pdf\".format(company)) # 회사명으로 파일 저장\n",
    "driver.close()\n",
    "driver.switch_to.window(driver.window_handles[-1])\n",
    "driver.close()\n"
   ]
  },
  {
   "cell_type": "code",
   "execution_count": 62,
   "metadata": {},
   "outputs": [
    {
     "ename": "NoSuchWindowException",
     "evalue": "Message: no such window: target window already closed\nfrom unknown error: web view not found\n  (Session info: chrome=105.0.5195.127)\nStacktrace:\nBacktrace:\n\tOrdinal0 [0x00F1DF13+2219795]\n\tOrdinal0 [0x00EB2841+1779777]\n\tOrdinal0 [0x00DC423D+803389]\n\tOrdinal0 [0x00DAC70A+706314]\n\tOrdinal0 [0x00E11502+1119490]\n\tOrdinal0 [0x00E1E8FA+1173754]\n\tOrdinal0 [0x00E0E616+1107478]\n\tOrdinal0 [0x00DE7F89+950153]\n\tOrdinal0 [0x00DE8F56+954198]\n\tGetHandleVerifier [0x01212CB2+3040210]\n\tGetHandleVerifier [0x01202BB4+2974420]\n\tGetHandleVerifier [0x00FB6A0A+565546]\n\tGetHandleVerifier [0x00FB5680+560544]\n\tOrdinal0 [0x00EB9A5C+1808988]\n\tOrdinal0 [0x00EBE3A8+1827752]\n\tOrdinal0 [0x00EBE495+1827989]\n\tOrdinal0 [0x00EC80A4+1867940]\n\tBaseThreadInitThunk [0x755F6739+25]\n\tRtlGetFullPathName_UEx [0x772A8FD2+1218]\n\tRtlGetFullPathName_UEx [0x772A8F9D+1165]\n",
     "output_type": "error",
     "traceback": [
      "\u001b[1;31m---------------------------------------------------------------------------\u001b[0m",
      "\u001b[1;31mNoSuchWindowException\u001b[0m                     Traceback (most recent call last)",
      "\u001b[1;32mc:\\Users\\chldl\\Desktop\\공부\\공모전\\미래에셋증권빅페\\CodeSpace\\크롤링.ipynb Cell 5\u001b[0m in \u001b[0;36m<cell line: 11>\u001b[1;34m()\u001b[0m\n\u001b[0;32m     <a href='vscode-notebook-cell:/c%3A/Users/chldl/Desktop/%EA%B3%B5%EB%B6%80/%EA%B3%B5%EB%AA%A8%EC%A0%84/%EB%AF%B8%EB%9E%98%EC%97%90%EC%85%8B%EC%A6%9D%EA%B6%8C%EB%B9%85%ED%8E%98/CodeSpace/%ED%81%AC%EB%A1%A4%EB%A7%81.ipynb#X20sZmlsZQ%3D%3D?line=70'>71</a>\u001b[0m             \u001b[39mbreak\u001b[39;00m       \n\u001b[0;32m     <a href='vscode-notebook-cell:/c%3A/Users/chldl/Desktop/%EA%B3%B5%EB%B6%80/%EA%B3%B5%EB%AA%A8%EC%A0%84/%EB%AF%B8%EB%9E%98%EC%97%90%EC%85%8B%EC%A6%9D%EA%B6%8C%EB%B9%85%ED%8E%98/CodeSpace/%ED%81%AC%EB%A1%A4%EB%A7%81.ipynb#X20sZmlsZQ%3D%3D?line=71'>72</a>\u001b[0m         driver\u001b[39m.\u001b[39mswitch_to\u001b[39m.\u001b[39mwindow(driver\u001b[39m.\u001b[39mwindow_handles[\u001b[39m-\u001b[39m\u001b[39m1\u001b[39m])\n\u001b[1;32m---> <a href='vscode-notebook-cell:/c%3A/Users/chldl/Desktop/%EA%B3%B5%EB%B6%80/%EA%B3%B5%EB%AA%A8%EC%A0%84/%EB%AF%B8%EB%9E%98%EC%97%90%EC%85%8B%EC%A6%9D%EA%B6%8C%EB%B9%85%ED%8E%98/CodeSpace/%ED%81%AC%EB%A1%A4%EB%A7%81.ipynb#X20sZmlsZQ%3D%3D?line=73'>74</a>\u001b[0m next_page\u001b[39m.\u001b[39;49mclick()\n\u001b[0;32m     <a href='vscode-notebook-cell:/c%3A/Users/chldl/Desktop/%EA%B3%B5%EB%B6%80/%EA%B3%B5%EB%AA%A8%EC%A0%84/%EB%AF%B8%EB%9E%98%EC%97%90%EC%85%8B%EC%A6%9D%EA%B6%8C%EB%B9%85%ED%8E%98/CodeSpace/%ED%81%AC%EB%A1%A4%EB%A7%81.ipynb#X20sZmlsZQ%3D%3D?line=74'>75</a>\u001b[0m page_num \u001b[39m+\u001b[39m\u001b[39m=\u001b[39m \u001b[39m1\u001b[39m\n",
      "File \u001b[1;32mc:\\Users\\chldl\\Desktop\\공부\\공모전\\미래에셋증권빅페\\CodeSpace\\esg\\lib\\site-packages\\selenium\\webdriver\\remote\\webelement.py:88\u001b[0m, in \u001b[0;36mWebElement.click\u001b[1;34m(self)\u001b[0m\n\u001b[0;32m     86\u001b[0m \u001b[39mdef\u001b[39;00m \u001b[39mclick\u001b[39m(\u001b[39mself\u001b[39m) \u001b[39m-\u001b[39m\u001b[39m>\u001b[39m \u001b[39mNone\u001b[39;00m:\n\u001b[0;32m     87\u001b[0m     \u001b[39m\"\"\"Clicks the element.\"\"\"\u001b[39;00m\n\u001b[1;32m---> 88\u001b[0m     \u001b[39mself\u001b[39;49m\u001b[39m.\u001b[39;49m_execute(Command\u001b[39m.\u001b[39;49mCLICK_ELEMENT)\n",
      "File \u001b[1;32mc:\\Users\\chldl\\Desktop\\공부\\공모전\\미래에셋증권빅페\\CodeSpace\\esg\\lib\\site-packages\\selenium\\webdriver\\remote\\webelement.py:396\u001b[0m, in \u001b[0;36mWebElement._execute\u001b[1;34m(self, command, params)\u001b[0m\n\u001b[0;32m    394\u001b[0m     params \u001b[39m=\u001b[39m {}\n\u001b[0;32m    395\u001b[0m params[\u001b[39m'\u001b[39m\u001b[39mid\u001b[39m\u001b[39m'\u001b[39m] \u001b[39m=\u001b[39m \u001b[39mself\u001b[39m\u001b[39m.\u001b[39m_id\n\u001b[1;32m--> 396\u001b[0m \u001b[39mreturn\u001b[39;00m \u001b[39mself\u001b[39;49m\u001b[39m.\u001b[39;49m_parent\u001b[39m.\u001b[39;49mexecute(command, params)\n",
      "File \u001b[1;32mc:\\Users\\chldl\\Desktop\\공부\\공모전\\미래에셋증권빅페\\CodeSpace\\esg\\lib\\site-packages\\selenium\\webdriver\\remote\\webdriver.py:428\u001b[0m, in \u001b[0;36mWebDriver.execute\u001b[1;34m(self, driver_command, params)\u001b[0m\n\u001b[0;32m    426\u001b[0m response \u001b[39m=\u001b[39m \u001b[39mself\u001b[39m\u001b[39m.\u001b[39mcommand_executor\u001b[39m.\u001b[39mexecute(driver_command, params)\n\u001b[0;32m    427\u001b[0m \u001b[39mif\u001b[39;00m response:\n\u001b[1;32m--> 428\u001b[0m     \u001b[39mself\u001b[39;49m\u001b[39m.\u001b[39;49merror_handler\u001b[39m.\u001b[39;49mcheck_response(response)\n\u001b[0;32m    429\u001b[0m     response[\u001b[39m'\u001b[39m\u001b[39mvalue\u001b[39m\u001b[39m'\u001b[39m] \u001b[39m=\u001b[39m \u001b[39mself\u001b[39m\u001b[39m.\u001b[39m_unwrap_value(\n\u001b[0;32m    430\u001b[0m         response\u001b[39m.\u001b[39mget(\u001b[39m'\u001b[39m\u001b[39mvalue\u001b[39m\u001b[39m'\u001b[39m, \u001b[39mNone\u001b[39;00m))\n\u001b[0;32m    431\u001b[0m     \u001b[39mreturn\u001b[39;00m response\n",
      "File \u001b[1;32mc:\\Users\\chldl\\Desktop\\공부\\공모전\\미래에셋증권빅페\\CodeSpace\\esg\\lib\\site-packages\\selenium\\webdriver\\remote\\errorhandler.py:243\u001b[0m, in \u001b[0;36mErrorHandler.check_response\u001b[1;34m(self, response)\u001b[0m\n\u001b[0;32m    241\u001b[0m         alert_text \u001b[39m=\u001b[39m value[\u001b[39m'\u001b[39m\u001b[39malert\u001b[39m\u001b[39m'\u001b[39m]\u001b[39m.\u001b[39mget(\u001b[39m'\u001b[39m\u001b[39mtext\u001b[39m\u001b[39m'\u001b[39m)\n\u001b[0;32m    242\u001b[0m     \u001b[39mraise\u001b[39;00m exception_class(message, screen, stacktrace, alert_text)  \u001b[39m# type: ignore[call-arg]  # mypy is not smart enough here\u001b[39;00m\n\u001b[1;32m--> 243\u001b[0m \u001b[39mraise\u001b[39;00m exception_class(message, screen, stacktrace)\n",
      "\u001b[1;31mNoSuchWindowException\u001b[0m: Message: no such window: target window already closed\nfrom unknown error: web view not found\n  (Session info: chrome=105.0.5195.127)\nStacktrace:\nBacktrace:\n\tOrdinal0 [0x00F1DF13+2219795]\n\tOrdinal0 [0x00EB2841+1779777]\n\tOrdinal0 [0x00DC423D+803389]\n\tOrdinal0 [0x00DAC70A+706314]\n\tOrdinal0 [0x00E11502+1119490]\n\tOrdinal0 [0x00E1E8FA+1173754]\n\tOrdinal0 [0x00E0E616+1107478]\n\tOrdinal0 [0x00DE7F89+950153]\n\tOrdinal0 [0x00DE8F56+954198]\n\tGetHandleVerifier [0x01212CB2+3040210]\n\tGetHandleVerifier [0x01202BB4+2974420]\n\tGetHandleVerifier [0x00FB6A0A+565546]\n\tGetHandleVerifier [0x00FB5680+560544]\n\tOrdinal0 [0x00EB9A5C+1808988]\n\tOrdinal0 [0x00EBE3A8+1827752]\n\tOrdinal0 [0x00EBE495+1827989]\n\tOrdinal0 [0x00EC80A4+1867940]\n\tBaseThreadInitThunk [0x755F6739+25]\n\tRtlGetFullPathName_UEx [0x772A8FD2+1218]\n\tRtlGetFullPathName_UEx [0x772A8F9D+1165]\n"
     ]
    }
   ],
   "source": [
    "# 크롤러 실행\n",
    "\n",
    "driver = webdriver.Chrome()  # 빈칸 시 path 검색(optional argument)\n",
    "driver.get('https://esg.krx.co.kr/contents/02/02030000/ESG02030000.jsp')\n",
    "time.sleep(2) \n",
    "next_page = driver.find_element(By.CSS_SELECTOR, \"ul > li.next > a\")\n",
    "page_num = 1\n",
    "\n",
    "res = os.listdir(\"ESG_Reports_File\") # 저장 경로\n",
    "\n",
    "while page_num <= 12:\n",
    "    for i in range(1, 11):\n",
    "        # 회사 클릭\n",
    "        company = driver.find_element(By.CSS_SELECTOR, \"tbody > tr:nth-child({}) > td:nth-child(1)\".format(i)).get_attribute('innerHTML') # 회사명 저장\n",
    "        ESG = driver.find_element(By.CSS_SELECTOR, \"tbody > tr:nth-child({}) > td:nth-child(6) > a.file-download.useK\".format(i)).click() # i번째 회사 클릭\n",
    "        time.sleep(0.25)\n",
    "\n",
    "        # 보고서 프레임으로 이동\n",
    "        driver.switch_to.window(driver.window_handles[-1]) # 새 탭으로 전환\n",
    "        driver.find_element(By.CSS_SELECTOR, \"#attachedDoc\").click() # 목록 열기\n",
    "        time.sleep(0.25)\n",
    "        driver.find_element(By.CSS_SELECTOR, \"#attachedDoc > option:nth-child(2)\").click() # 목록에서 2번째\n",
    "        time.sleep(0.25)\n",
    "        driver.switch_to.frame(\"docViewFrm\")\n",
    "        \n",
    "        # 보고서 링크 클릭\n",
    "        time.sleep(0.25)\n",
    "        \n",
    "        flag = 0\n",
    "        try:\n",
    "            flag = 1\n",
    "            Report = driver.find_element(By.CSS_SELECTOR, \"body > div > div > a\").click() # 보고서 클릭\n",
    "            driver.switch_to.window(driver.window_handles[-1]) # 보고서로 탭 전환\n",
    "            URL = driver.current_url # 현재 링크 저장\n",
    "            \n",
    "            # 목적 완수 후 보고서 페이지 닫기\n",
    "            driver.close()\n",
    "            driver.switch_to.window(driver.window_handles[-1])\n",
    "            \n",
    "            driver.close() # 공시 페이지 닫기\n",
    "        except:\n",
    "            flag = 2\n",
    "            Report_kor = driver.find_element(By.CSS_SELECTOR, \"body > div > div > a:nth-child(4)\").click() # 보고서 클릭\n",
    "            driver.switch_to.window(driver.window_handles[-1]) # 보고서로 탭 전환\n",
    "            URL_kor = driver.current_url # 현재 링크 저장\n",
    "            \n",
    "            # 목적 완수 후 보고서 페이지 닫기\n",
    "            driver.close()\n",
    "            driver.switch_to.window(driver.window_handles[-1])\n",
    "            \n",
    "            Report_eng = driver.find_element(By.CSS_SELECTOR, \"body > div > div > a:nth-child(5)\").click()\n",
    "            driver.switch_to.window(driver.window_handles[-1]) # 보고서로 탭 전환\n",
    "            URL_eng = driver.current_url # 현재 링크 저장\n",
    "        \n",
    "        same = 0\n",
    "        for i in range(len(res)):\n",
    "            if res[i][:-4] == company:\n",
    "                same = 1\n",
    "                break\n",
    "        \n",
    "        if same == 1:\n",
    "            driver.switch_to.window(driver.window_handles[-1])\n",
    "            continue\n",
    "        else:\n",
    "            if flag == 1:\n",
    "                download(URL, \"ESG_Reports_File/{}.pdf\".format(company)) # 회사명으로 파일 저장\n",
    "                break\n",
    "            elif flag == 2:\n",
    "                download(URL_kor, \"ESG_Reports_File/{}_국문.pdf\".format(company)) # 회사명으로 파일 저장\n",
    "                download(URL_eng, \"ESG_Reports_File/{}_영문.pdf\".format(company)) # 회사명으로 파일 저장\n",
    "                break       \n",
    "            driver.switch_to.window(driver.window_handles[-1])\n",
    "        \n",
    "    next_page.click()\n",
    "    page_num += 1"
   ]
  },
  {
   "cell_type": "code",
   "execution_count": 61,
   "metadata": {},
   "outputs": [
    {
     "data": {
      "text/plain": [
       "'한국가스공사'"
      ]
     },
     "execution_count": 61,
     "metadata": {},
     "output_type": "execute_result"
    }
   ],
   "source": [
    "company"
   ]
  },
  {
   "cell_type": "code",
   "execution_count": 55,
   "metadata": {},
   "outputs": [
    {
     "data": {
      "text/plain": [
       "'한국가스공사'"
      ]
     },
     "execution_count": 55,
     "metadata": {},
     "output_type": "execute_result"
    }
   ],
   "source": []
  },
  {
   "cell_type": "code",
   "execution_count": 48,
   "metadata": {},
   "outputs": [
    {
     "data": {
      "text/plain": [
       "2"
      ]
     },
     "execution_count": 48,
     "metadata": {},
     "output_type": "execute_result"
    }
   ],
   "source": [
    "i"
   ]
  },
  {
   "cell_type": "code",
   "execution_count": 47,
   "metadata": {},
   "outputs": [
    {
     "data": {
      "text/plain": [
       "'한국가스공사'"
      ]
     },
     "execution_count": 47,
     "metadata": {},
     "output_type": "execute_result"
    }
   ],
   "source": [
    "company"
   ]
  },
  {
   "cell_type": "code",
   "execution_count": null,
   "metadata": {},
   "outputs": [],
   "source": [
    "try:\n",
    "    #image.click()\n",
    "    driver.execute_script(\"arguments[0].click();\", image) \n",
    "    time.sleep(0.7) \n",
    "    image_url = driver.find_element_by_xpath(\"/html/body/div[2]/c-wiz/div[3]/div[2]/div[3]/div/div/div[3]/div[2]/c-wiz/div/div[1]/div[1]/div[2]/div[1]/a/img\").get_attribute(\"src\")\n",
    "\n",
    "except:\n",
    "    pass\n",
    "\n",
    "def createFolder(directory):\n",
    "    try:\n",
    "        if not os.path.exists(directory):\n",
    "            os.makedirs(directory)\n",
    "    except OSError:\n",
    "        print ('Error: Creating directory. ' +  directory)\n",
    "        \n",
    "count = 1\n",
    "images = driver.find_elements_by_css_selector(\".rg_i.Q4LuWd\")\n",
    "createFolder(save_path)\n",
    "\n",
    "driver.quit() # 창 닫기\n",
    "\n",
    "# 이미지 경로 정렬\n",
    "dir = os.getcwd()\n",
    "file_path = os.path.join(dir+'/Style_Images/'+search_keyword)\n",
    "file_names = os.listdir(file_path)\n",
    "file_names = natsort.natsorted(file_names) # 숫자 순으로 정렬"
   ]
  },
  {
   "cell_type": "markdown",
   "metadata": {},
   "source": [
    "### 중복 이미지 제거"
   ]
  },
  {
   "cell_type": "code",
   "execution_count": 12,
   "metadata": {},
   "outputs": [],
   "source": [
    "# 중복 이미지 제거할 이미지 리스트 정의\n",
    "img_list = []\n",
    "\n",
    "for f in file_names:\n",
    "    if '.jpg' in f:\n",
    "        img_list.append(f)\n",
    "        \n",
    "img_size = list(map(lambda x: os.path.getsize(file_path + '/' + x), img_list))\n",
    "\n",
    "# Dataframe 정의\n",
    "img_df = pd.DataFrame({'filename_raw':img_list, 'size':img_size})\n",
    "print('총 이미지 수:', len(img_df))\n",
    "img_df.head()\n",
    "\n",
    "# 파일명 숫자 제거\n",
    "com = re.compile(' \\d')\n",
    "img_df['filename'] = list(map(lambda x: com.sub('', x), img_list))\n",
    "\n",
    "# 이미지명 & 이미지 크기 확인\n",
    "filename_df= pd.DataFrame({'filename':img_df['filename'].value_counts().index, 'filename_counts':img_df['filename'].value_counts().values})   \n",
    "filesize_df = pd.DataFrame({'size':img_df['size'].value_counts().index, 'size_counts':img_df['size'].value_counts().values})   \n",
    "\n",
    "img_df = pd.merge(img_df, filename_df, how = 'left', on = 'filename')\n",
    "img_df = pd.merge(img_df, filesize_df, how = 'left', on = 'size')\n",
    "\n",
    "img_df.head()"
   ]
  },
  {
   "cell_type": "markdown",
   "metadata": {},
   "source": [
    "### 1) 동일 파일명 || 동일 사이즈 이미지 제거"
   ]
  },
  {
   "cell_type": "code",
   "execution_count": 17,
   "metadata": {},
   "outputs": [],
   "source": [
    "# 기존 dataframe에서 동일 파일명 이미지 제거\n",
    "img_df2 = img_df.sort_values(['filename_raw'], ascending = True).drop_duplicates(['filename'], keep = 'first')\n",
    "\n",
    "print('삭제된 이미지 수:',len(img_df)-len(img_df2))\n",
    "print('남은 이미지 수:', len(img_df2)) \n",
    "\n",
    "filename_df2 = pd.DataFrame({'filename':img_df2['filename'].value_counts().index, 'filename_counts2':img_df2['filename'].value_counts().values})   \n",
    "filesize_df2 = pd.DataFrame({'size':img_df2['size'].value_counts().index, 'size_counts2':img_df2['size'].value_counts().values})   \n",
    "\n",
    "img_df2 = pd.merge(img_df2, filename_df2, how = 'left', on = 'filename')\n",
    "img_df2 = pd.merge(img_df2, filesize_df2, how = 'left', on = 'size')\n",
    "\n",
    "img_df2.head()"
   ]
  },
  {
   "cell_type": "code",
   "execution_count": 20,
   "metadata": {},
   "outputs": [
    {
     "name": "stdout",
     "output_type": "stream",
     "text": [
      "사이즈 중복된 이미지 수: 8\n",
      "중복 사이즈 수: 4\n"
     ]
    }
   ],
   "source": [
    "print('사이즈 중복된 이미지 수:', len(img_df2[img_df2['size_counts2']!=1]))\n",
    "print('중복 사이즈 수:', len(filesize_df2[filesize_df2['size_counts2']>1]))"
   ]
  },
  {
   "cell_type": "code",
   "execution_count": 21,
   "metadata": {},
   "outputs": [
    {
     "data": {
      "text/plain": [
       "['sample37.jpg', 'sample44.jpg', 'sample50.jpg', 'sample42.jpg']"
      ]
     },
     "execution_count": 21,
     "metadata": {},
     "output_type": "execute_result"
    }
   ],
   "source": [
    "# 삭제될 이미지 리스트\n",
    "img_delete_list = []\n",
    "\n",
    "for i in range(len(filesize_df2)):\n",
    "    \n",
    "    # 중복된 크기(size)가 있는 경우\n",
    "    if filesize_df2['size_counts2'][i] == 2:\n",
    "        \n",
    "        # 그 크기에 해당하는 이미지 불러옴\n",
    "        temp = img_df2[img_df2['size']==filesize_df2['size'][i]].reset_index(drop = True).sort_values(['filename'])\n",
    "        \n",
    "        imageA = cv2.imread(file_path+'/'+temp['filename_raw'][0])\n",
    "        imageB = cv2.imread(file_path+'/'+temp['filename_raw'][1])\n",
    "        \n",
    "        grayA = cv2.cvtColor(imageA, cv2.COLOR_BGR2GRAY)\n",
    "        grayB = cv2.cvtColor(imageB, cv2.COLOR_BGR2GRAY)\n",
    "        \n",
    "        # if) 이미지 구조 same -> 이미지 비교\n",
    "        if len(grayA)==len(grayB):\n",
    "            (score, diff) = structural_similarity(grayA, grayB, full=True)\n",
    "            \n",
    "            # if) 차이 無 -> 둘중 한 장 img_delete_list에 추가\n",
    "            if score == 1:\n",
    "                img_delete_list.append(temp['filename_raw'][1])\n",
    "            \n",
    "            # if) 구조 same but 차이 有 -> 직접 확인     \n",
    "            else:\n",
    "                print('이미지 중복 여부 확인 필요: ', temp['filename_raw'][0], '/', temp['filename_raw'][1], f'(score: {score})')\n",
    "                \n",
    "img_delete_list"
   ]
  },
  {
   "cell_type": "code",
   "execution_count": 22,
   "metadata": {},
   "outputs": [
    {
     "name": "stdout",
     "output_type": "stream",
     "text": [
      "삭제할 이미지 수: 4\n"
     ]
    }
   ],
   "source": [
    "# 중복 제거된 것들 img_delete_list에 넣어주기\n",
    "img_delete_list = img_delete_list + list(img_df[~img_df['filename_raw'].isin(img_df2['filename_raw'])]['filename_raw'])\n",
    "print('삭제할 이미지 수:', len(img_delete_list))"
   ]
  },
  {
   "cell_type": "code",
   "execution_count": 23,
   "metadata": {},
   "outputs": [
    {
     "name": "stdout",
     "output_type": "stream",
     "text": [
      "남은 이미지 수: 141\n"
     ]
    }
   ],
   "source": [
    "# img_remained_list: 처음 dataframe에서 img_delete_list 제외\n",
    "img_remained_list = list(img_df[~img_df['filename_raw'].isin(img_delete_list)]['filename_raw'])\n",
    "print('남은 이미지 수:', len(img_remained_list))"
   ]
  },
  {
   "cell_type": "code",
   "execution_count": 24,
   "metadata": {},
   "outputs": [],
   "source": [
    "# 중복 이미지 제거\n",
    "for img in img_delete_list:\n",
    "    route = os.path.join(file_path+'/'+img)\n",
    "    os.remove(route)"
   ]
  },
  {
   "cell_type": "code",
   "execution_count": 25,
   "metadata": {},
   "outputs": [],
   "source": [
    "# 이미지 remove 후 파일명 리스트 재정의\n",
    "dir = os.getcwd()\n",
    "file_path = os.path.join(dir+'/Style_Images/'+search_keyword)\n",
    "file_names = os.listdir(file_path)\n",
    "file_names = natsort.natsorted(file_names)"
   ]
  },
  {
   "cell_type": "markdown",
   "metadata": {},
   "source": [
    "### 2) 다른 사이즈 && 동일 이미지 제거 - ✅ 에러 해결 中"
   ]
  },
  {
   "cell_type": "markdown",
   "metadata": {},
   "source": [
    "### 3) 256*256 미만 사이즈 이미지 제거"
   ]
  },
  {
   "cell_type": "code",
   "execution_count": 26,
   "metadata": {},
   "outputs": [
    {
     "data": {
      "text/plain": [
       "['sample102.jpg']"
      ]
     },
     "execution_count": 26,
     "metadata": {},
     "output_type": "execute_result"
    }
   ],
   "source": [
    "img_delete_list3 = []\n",
    "for name in file_names:\n",
    "    route = os.path.join(file_path+'/'+name)\n",
    "    img = cv2.imread(route)\n",
    "    height, width, color = img.shape\n",
    "    if width < 256 and height < 256:\n",
    "        img_delete_list3.append(name)\n",
    "img_delete_list3"
   ]
  },
  {
   "cell_type": "code",
   "execution_count": 27,
   "metadata": {},
   "outputs": [],
   "source": [
    "# 크기 작은 이미지 제거\n",
    "for small_img in img_delete_list3:\n",
    "    img = os.path.join(file_path+'/'+small_img)\n",
    "    os.remove(img)"
   ]
  },
  {
   "cell_type": "code",
   "execution_count": 28,
   "metadata": {},
   "outputs": [],
   "source": [
    "# 이미지 remove 후 파일명 리스트 재정의\n",
    "dir = os.getcwd()\n",
    "file_path = os.path.join(dir+'/Style_Images/'+search_keyword)\n",
    "file_names = os.listdir(file_path)\n",
    "file_names = natsort.natsorted(file_names)"
   ]
  },
  {
   "cell_type": "code",
   "execution_count": 29,
   "metadata": {},
   "outputs": [],
   "source": [
    "# 남은 이미지 다시 넘버링하여 저장\n",
    "count = 1\n",
    "for name in file_names:\n",
    "    src = os.path.join(file_path, name)\n",
    "    dst = search_keyword + str(count) + '.jpg' \n",
    "    dst = os.path.join(file_path, dst)\n",
    "    try:\n",
    "        os.rename(src, dst)\n",
    "    except FileExistsError:\n",
    "        print(\"File already exists: Removing prior file\")\n",
    "        os.remove(dst)\n",
    "        os.rename(src, dst)\n",
    "    count += 1"
   ]
  },
  {
   "cell_type": "code",
   "execution_count": 30,
   "metadata": {},
   "outputs": [
    {
     "data": {
      "text/plain": [
       "['sample1.jpg',\n",
       " 'sample2.jpg',\n",
       " 'sample3.jpg',\n",
       " 'sample4.jpg',\n",
       " 'sample5.jpg',\n",
       " 'sample6.jpg',\n",
       " 'sample7.jpg',\n",
       " 'sample8.jpg',\n",
       " 'sample9.jpg',\n",
       " 'sample10.jpg',\n",
       " 'sample11.jpg',\n",
       " 'sample12.jpg',\n",
       " 'sample13.jpg',\n",
       " 'sample14.jpg',\n",
       " 'sample15.jpg',\n",
       " 'sample16.jpg',\n",
       " 'sample17.jpg',\n",
       " 'sample18.jpg',\n",
       " 'sample19.jpg',\n",
       " 'sample20.jpg',\n",
       " 'sample21.jpg',\n",
       " 'sample22.jpg',\n",
       " 'sample23.jpg',\n",
       " 'sample24.jpg',\n",
       " 'sample25.jpg',\n",
       " 'sample26.jpg',\n",
       " 'sample27.jpg',\n",
       " 'sample28.jpg',\n",
       " 'sample29.jpg',\n",
       " 'sample30.jpg',\n",
       " 'sample31.jpg',\n",
       " 'sample32.jpg',\n",
       " 'sample33.jpg',\n",
       " 'sample34.jpg',\n",
       " 'sample35.jpg',\n",
       " 'sample36.jpg',\n",
       " 'sample37.jpg',\n",
       " 'sample38.jpg',\n",
       " 'sample39.jpg',\n",
       " 'sample40.jpg',\n",
       " 'sample41.jpg',\n",
       " 'sample42.jpg',\n",
       " 'sample43.jpg',\n",
       " 'sample44.jpg',\n",
       " 'sample45.jpg',\n",
       " 'sample46.jpg',\n",
       " 'sample47.jpg',\n",
       " 'sample48.jpg',\n",
       " 'sample49.jpg',\n",
       " 'sample50.jpg',\n",
       " 'sample51.jpg',\n",
       " 'sample52.jpg',\n",
       " 'sample53.jpg',\n",
       " 'sample54.jpg',\n",
       " 'sample55.jpg',\n",
       " 'sample56.jpg',\n",
       " 'sample57.jpg',\n",
       " 'sample58.jpg',\n",
       " 'sample59.jpg',\n",
       " 'sample60.jpg',\n",
       " 'sample61.jpg',\n",
       " 'sample62.jpg',\n",
       " 'sample63.jpg',\n",
       " 'sample64.jpg',\n",
       " 'sample65.jpg',\n",
       " 'sample66.jpg',\n",
       " 'sample67.jpg',\n",
       " 'sample68.jpg',\n",
       " 'sample69.jpg',\n",
       " 'sample70.jpg',\n",
       " 'sample71.jpg',\n",
       " 'sample72.jpg',\n",
       " 'sample73.jpg',\n",
       " 'sample74.jpg',\n",
       " 'sample75.jpg',\n",
       " 'sample76.jpg',\n",
       " 'sample77.jpg',\n",
       " 'sample78.jpg',\n",
       " 'sample79.jpg',\n",
       " 'sample80.jpg',\n",
       " 'sample81.jpg',\n",
       " 'sample82.jpg',\n",
       " 'sample83.jpg',\n",
       " 'sample84.jpg',\n",
       " 'sample85.jpg',\n",
       " 'sample86.jpg',\n",
       " 'sample87.jpg',\n",
       " 'sample88.jpg',\n",
       " 'sample89.jpg',\n",
       " 'sample90.jpg',\n",
       " 'sample91.jpg',\n",
       " 'sample92.jpg',\n",
       " 'sample93.jpg',\n",
       " 'sample94.jpg',\n",
       " 'sample95.jpg',\n",
       " 'sample96.jpg',\n",
       " 'sample97.jpg',\n",
       " 'sample98.jpg',\n",
       " 'sample99.jpg',\n",
       " 'sample100.jpg',\n",
       " 'sample101.jpg',\n",
       " 'sample102.jpg',\n",
       " 'sample103.jpg',\n",
       " 'sample104.jpg',\n",
       " 'sample105.jpg',\n",
       " 'sample106.jpg',\n",
       " 'sample107.jpg',\n",
       " 'sample108.jpg',\n",
       " 'sample109.jpg',\n",
       " 'sample110.jpg',\n",
       " 'sample111.jpg',\n",
       " 'sample112.jpg',\n",
       " 'sample113.jpg',\n",
       " 'sample114.jpg',\n",
       " 'sample115.jpg',\n",
       " 'sample116.jpg',\n",
       " 'sample117.jpg',\n",
       " 'sample118.jpg',\n",
       " 'sample119.jpg',\n",
       " 'sample120.jpg',\n",
       " 'sample121.jpg',\n",
       " 'sample122.jpg',\n",
       " 'sample123.jpg',\n",
       " 'sample124.jpg',\n",
       " 'sample125.jpg',\n",
       " 'sample126.jpg',\n",
       " 'sample127.jpg',\n",
       " 'sample128.jpg',\n",
       " 'sample129.jpg',\n",
       " 'sample130.jpg',\n",
       " 'sample131.jpg',\n",
       " 'sample132.jpg',\n",
       " 'sample133.jpg',\n",
       " 'sample134.jpg',\n",
       " 'sample135.jpg',\n",
       " 'sample136.jpg',\n",
       " 'sample137.jpg',\n",
       " 'sample138.jpg',\n",
       " 'sample139.jpg',\n",
       " 'sample140.jpg']"
      ]
     },
     "execution_count": 30,
     "metadata": {},
     "output_type": "execute_result"
    }
   ],
   "source": [
    "# 변경된 파일명 확인\n",
    "res = os.listdir(file_path)\n",
    "res = natsort.natsorted(res)\n",
    "res"
   ]
  }
 ],
 "metadata": {
  "kernelspec": {
   "display_name": "Python 3.8.8 ('esg': venv)",
   "language": "python",
   "name": "python3"
  },
  "language_info": {
   "codemirror_mode": {
    "name": "ipython",
    "version": 3
   },
   "file_extension": ".py",
   "mimetype": "text/x-python",
   "name": "python",
   "nbconvert_exporter": "python",
   "pygments_lexer": "ipython3",
   "version": "3.8.8"
  },
  "vscode": {
   "interpreter": {
    "hash": "7a9a8fe38dee8a01bed1a9472d5ed996ba25895574782ab56927d2d2684a647a"
   }
  }
 },
 "nbformat": 4,
 "nbformat_minor": 4
}
